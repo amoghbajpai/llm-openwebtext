{
 "cells": [
  {
   "cell_type": "code",
   "execution_count": 1,
   "id": "eabd5b3b",
   "metadata": {},
   "outputs": [],
   "source": [
    "import os\n",
    "import torch\n",
    "import torch.nn as nn\n",
    "from torch.nn import functional as F\n",
    "import mmap\n",
    "import random\n",
    "import pickle"
   ]
  },
  {
   "cell_type": "code",
   "execution_count": 2,
   "id": "36901e4d",
   "metadata": {},
   "outputs": [
    {
     "data": {
      "text/plain": [
       "True"
      ]
     },
     "execution_count": 2,
     "metadata": {},
     "output_type": "execute_result"
    }
   ],
   "source": [
    "torch.cuda.is_available()"
   ]
  },
  {
   "cell_type": "code",
   "execution_count": 3,
   "id": "8e5cd621",
   "metadata": {},
   "outputs": [],
   "source": [
    "device= 'cuda' if torch.cuda.is_available() else 'cpu'\n",
    "\n",
    "block_size= 128\n",
    "batch_size= 16\n",
    "max_iters= 300\n",
    "learning_rate= 2e-3\n",
    "eval_iters= 250\n",
    "n_embd= 384 #n_embd should be a very large vector, as it is intended to capture the semantics. \n",
    "dropout= 0.2 #20 percent of neurons, to prevent overfitting\n",
    "n_layer= 4\n",
    "n_head= 4"
   ]
  },
  {
   "cell_type": "code",
   "execution_count": 4,
   "id": "3c061dd0",
   "metadata": {},
   "outputs": [
    {
     "data": {
      "text/plain": [
       "'cuda'"
      ]
     },
     "execution_count": 4,
     "metadata": {},
     "output_type": "execute_result"
    }
   ],
   "source": [
    "device"
   ]
  },
  {
   "cell_type": "code",
   "execution_count": 5,
   "id": "adf2ef67",
   "metadata": {},
   "outputs": [
    {
     "data": {
      "text/plain": [
       "32172"
      ]
     },
     "execution_count": 5,
     "metadata": {},
     "output_type": "execute_result"
    }
   ],
   "source": [
    "chars= \"\"\n",
    "\n",
    "with open(r\"C:\\Users\\amogh\\openwebtext\\vocab.txt\", 'r', encoding= 'utf-8') as f:\n",
    "    text= f.read()\n",
    "\n",
    "chars= sorted(set(text))\n",
    "vocab_size= len(chars)\n",
    "vocab_size"
   ]
  },
  {
   "cell_type": "code",
   "execution_count": 6,
   "id": "bde6e36c",
   "metadata": {},
   "outputs": [],
   "source": [
    "string_to_int= {ch:i for i, ch in enumerate(chars) }\n",
    "int_to_string= {i:ch for i, ch in enumerate(chars)}\n",
    "encode= lambda s: [string_to_int[c] for c in s]\n",
    "decode= lambda l: ''.join(int_to_string[i] for i in l)\n",
    "#simple mapping for a small vocabulary"
   ]
  },
  {
   "cell_type": "code",
   "execution_count": 7,
   "id": "65d7f6b0",
   "metadata": {},
   "outputs": [],
   "source": [
    "def get_random_chunk(split):\n",
    "    filename = r\"C:\\Users\\amogh\\openwebtext\\output_train.txt\" if split == 'train' else r\"C:\\Users\\amogh\\openwebtext\\output_val.txt\"\n",
    "    #filename = r\"openwebtext\\output_train.txt\" if split == 'train' else r\"amogh\\openwebtext\\output_val.txt\n",
    "    with open(filename, 'rb') as f:\n",
    "        with mmap.mmap(f.fileno(), 0, access=mmap.ACCESS_READ) as mm:\n",
    "            # Determine the file size and a random position to start reading\n",
    "            file_size = len(mm)\n",
    "            start_pos = random.randint(0, (file_size) - block_size*batch_size)\n",
    "\n",
    "            # Seek to the random position and read the block of text\n",
    "            mm.seek(start_pos)\n",
    "            block = mm.read(block_size*batch_size-1)\n",
    "\n",
    "            # Decode the block to a string, ignoring any invalid byte sequences\n",
    "            decoded_block = block.decode('utf-8', errors='ignore').replace('\\r', '')\n",
    "            \n",
    "            # Train and test splits\n",
    "            data = torch.tensor(encode(decoded_block), dtype=torch.long)\n",
    "            \n",
    "    return data\n",
    "\n",
    "\n"
   ]
  },
  {
   "cell_type": "code",
   "execution_count": 8,
   "id": "0d1b160e",
   "metadata": {},
   "outputs": [],
   "source": [
    "def get_batch(split):\n",
    "    data = get_random_chunk(split)\n",
    "    \n",
    "    ix = torch.randint(len(data) - block_size, (batch_size,))\n",
    "    x = torch.stack([data[i:i+block_size] for i in ix])\n",
    "    y = torch.stack([data[i+1:i+block_size+1] for i in ix])\n",
    "    x, y = x.to(device), y.to(device)\n",
    "    return x, y"
   ]
  },
  {
   "cell_type": "code",
   "execution_count": 9,
   "id": "001ee69f",
   "metadata": {},
   "outputs": [],
   "source": [
    "@torch.no_grad()\n",
    "def estimate_loss():\n",
    "    out = {}\n",
    "    model.eval()\n",
    "    for split in ['train', 'val']:\n",
    "        losses = torch.zeros(eval_iters)\n",
    "        for k in range(eval_iters):\n",
    "            X, Y = get_batch(split)\n",
    "            logits, loss = model(X, Y)\n",
    "            losses[k] = loss.item()\n",
    "        out[split] = losses.mean()\n",
    "    model.train()\n",
    "    return out"
   ]
  },
  {
   "cell_type": "markdown",
   "id": "30b4cd2f",
   "metadata": {},
   "source": [
    "The skeleton of our GPT model is the Bigram built previously. "
   ]
  },
  {
   "cell_type": "code",
   "execution_count": 11,
   "id": "617a0293",
   "metadata": {},
   "outputs": [],
   "source": [
    "class Head(nn.Module): #This shall implement the scaled dot product attention\n",
    "    \n",
    "    def __init__(self, head_size):\n",
    "        super().__init__()\n",
    "        self.key= nn.Linear(n_embd, head_size, bias= False)\n",
    "        self.query= nn.Linear(n_embd, head_size, bias= False)\n",
    "        self.value= nn.Linear(n_embd, head_size, bias= False)\n",
    "        self.register_buffer('tril', torch.tril(torch.ones(block_size, block_size)))\n",
    "\n",
    "        self.dropout= nn.Dropout(dropout)\n",
    "        \n",
    "    def forward(self, x):\n",
    "            B, T, C= x.shape\n",
    "            k= self.key(x)\n",
    "            q= self.query(x)\n",
    "            \n",
    "            # compute attention scores (\"affinities\")\n",
    "            wei = q @ k.transpose(-2,-1) * k.shape[-1]**-0.5 # (B, T, hs) @ (B, hs, T) -> (B, T, T)\n",
    "            wei = wei.masked_fill(self.tril[:T, :T] == 0, float('-inf')) # (B, T, T)\n",
    "            wei = F.softmax(wei, dim=-1) # (B, T, T)\n",
    "            wei = self.dropout(wei)\n",
    "            # perform the weighted aggregation of the values\n",
    "            v = self.value(x) # (B,T,hs)\n",
    "            out = wei @ v # (B, T, T) @ (B, T, hs) -> (B, T, hs)\n",
    "            \n",
    "            return out\n",
    "            \n",
    "            \n",
    "            \n",
    "class MultiHeadAttention(nn.Module):\n",
    "    \n",
    "    def __init__(self, num_heads, head_size):\n",
    "        super().__init__()\n",
    "        self.heads= nn.ModuleList([Head(head_size) for _ in range(num_heads)]) #n_heads running in parallel,\n",
    "        self.proj= nn.Linear(head_size * num_heads, n_embd) #projecting the output of each head into the larger scale\n",
    "        self.dropout= nn.Dropout(dropout)\n",
    "    \n",
    "    def forward(self, x):\n",
    "        out= torch.cat([h(x) for h in self.heads], dim= -1) #concatenating the heads along the \n",
    "        #last dimension (Channel) in Batch, Time, Channel\n",
    "        out= self.dropout(self.proj(out))\n",
    "        return out\n",
    "\n",
    "\n",
    "\n",
    "class FeedForward(nn.Module):\n",
    "    \n",
    "    def __init__(self, n_embd):\n",
    "        super().__init__()\n",
    "        self.net= nn.Sequential (\n",
    "            nn.Linear(n_embd, 4 * n_embd),\n",
    "            nn.ReLU(),\n",
    "            nn.Linear(4 * n_embd, n_embd),\n",
    "            nn.Dropout(dropout)\n",
    "        )\n",
    "    \n",
    "    def forward(self, x):\n",
    "        return self.net(x)\n",
    "\n",
    "\n",
    "class Block(nn.Module): #for defining the decoder blocks\n",
    "    \"\"\" Transformer block: communication followed by computation \"\"\"\n",
    "\n",
    "    def __init__(self, n_embd, n_head):\n",
    "        # n_embd: embedding dimension, n_head: the number of heads we'd like\n",
    "        super().__init__()\n",
    "        head_size = n_embd // n_head #Number of embedded features captured by each head\n",
    "        self.sa = MultiHeadAttention(n_head, head_size) #Self Attention-> Multi-head attention\n",
    "        self.ffwd = FeedForward(n_embd) \n",
    "        self.ln1 = nn.LayerNorm(n_embd)\n",
    "        self.ln2 = nn.LayerNorm(n_embd)\n",
    "\n",
    "    def forward(self, x): #Forward Pass\n",
    "        y = self.sa(x) \n",
    "        x = self.ln1(x + y)\n",
    "        y = self.ffwd(x)\n",
    "        x = self.ln2(x + y)\n",
    "        return x\n",
    "\n",
    "\n",
    "class GPTLanguageModel(nn.Module):\n",
    "    #Define the Embedding table\n",
    "    def __init__(self, vocab_size):\n",
    "        super().__init__()\n",
    "        self.token_embedding_table= nn.Embedding(vocab_size, n_embd)\n",
    "        #We have to create a function that performs positional encoding to the tokenised inputs.\n",
    "        self.positional_embedding_table= nn.Embedding(block_size, n_embd) #n_embd shall also be used in token encoding\n",
    "        \n",
    "        #for the decoder layers, we can use the common Sequential NN model with the heads corresponding to Multihead attention\n",
    "        self.blocks= nn.Sequential(*[Block(n_embd, n_head= n_head) for _ in range(n_layer)]) #No.of decoder blocks running sequentially\n",
    "        #* asterisk is used to imply 'For All'\n",
    "        self.ln_f= nn.LayerNorm(n_embd)#final layer's layer norm\n",
    "        self.ln_head= nn.LayerNorm(n_embd, vocab_size) #first layer's layer norm\n",
    "        \n",
    "        self.apply(self._init_weights)\n",
    "\n",
    "    \n",
    "    def _init_weights(self, module):\n",
    "        if isinstance(module, nn.Linear):\n",
    "            torch.nn.init.normal_(module.weight, mean= 0.0, std= 0.02)\n",
    "            if module.bias is not None:\n",
    "                torch.nn.init.zeros_(module.bias)\n",
    "        elif isinstance(module, nn.Embedding):\n",
    "            torch.nn.init.normal_(module.weight, mean= 0.0, std= 0.02)\n",
    "    \n",
    "    \n",
    "    #Define the forward pass for the network\n",
    "    def forward(self, index, targets= None):\n",
    "        \n",
    "        B, T= index.shape\n",
    "        \n",
    "        \n",
    "        #index and targets are B,T,C dimensioned tensors\n",
    "        tok_emb= self.token_embedding_table(index) #B, T\n",
    "        pos_emb= self.positional_embedding_table(torch.arange(T, device= device)) #T, C\n",
    "        \n",
    "        x= tok_emb + pos_emb  #B, T, C\n",
    "        x= self.blocks(x) #here the embeddings go through the blocks, B T C\n",
    "        x= self.ln_f(x) #this is the final layer\n",
    "        logits=self.ln_head(x)\n",
    "\n",
    "        \n",
    "        if targets is None:\n",
    "            loss= None\n",
    "        else:\n",
    "            B, T, C= logits.shape\n",
    "        #B is for Batches, T is for Targets, C is for \n",
    "            logits= logits.view(B*T,C)\n",
    "            targets= targets.view(B*T)\n",
    "            loss= F.cross_entropy(logits, targets)\n",
    "        \n",
    "        return logits, loss\n",
    "    \n",
    "    \n",
    "            \n",
    "    \n",
    "    def generate(self, index, max_new_tokens):\n",
    "        #index is (B,T) array of indices in current context (context as in context of tokens in the bigram) \n",
    "        for _ in range (max_new_tokens):\n",
    "            index_cond = index[:, -block_size:] # condense index to the last block_size tokens\n",
    "            \n",
    "            logits,loss= self.forward(index_cond) #gets predictions\n",
    "            logits= logits[:,-1,:] #focussing on the last time step- property of the bigram, becomes (B,C)  \n",
    "            probs= F.softmax(logits, dim= -1) # (B,C)\n",
    "            \n",
    "            index_next= torch.multinomial(probs, num_samples= 1) # (B, 1)\n",
    "            index= torch.cat((index, index_next), dim= 1) #for the new context\n",
    "            \n",
    "        return index\n",
    "    \n",
    "model= GPTLanguageModel(vocab_size)\n",
    "\n",
    "m= model.to(device) \n",
    "\n"
   ]
  },
  {
   "cell_type": "code",
   "execution_count": 12,
   "id": "ff8f8b8a",
   "metadata": {},
   "outputs": [
    {
     "name": "stdout",
     "output_type": "stream",
     "text": [
      "79955968\n",
      "83886080\n"
     ]
    }
   ],
   "source": [
    "print(torch.cuda.memory_allocated())\n",
    "print(torch.cuda.memory_reserved())"
   ]
  },
  {
   "cell_type": "code",
   "execution_count": 13,
   "id": "538a1aa8",
   "metadata": {},
   "outputs": [
    {
     "name": "stdout",
     "output_type": "stream",
     "text": [
      "0\n"
     ]
    },
    {
     "ename": "RuntimeError",
     "evalue": "CUDA error: device-side assert triggered\nCUDA kernel errors might be asynchronously reported at some other API call, so the stacktrace below might be incorrect.\nFor debugging consider passing CUDA_LAUNCH_BLOCKING=1.\nCompile with `TORCH_USE_CUDA_DSA` to enable device-side assertions.\n",
     "output_type": "error",
     "traceback": [
      "\u001b[1;31m---------------------------------------------------------------------------\u001b[0m",
      "\u001b[1;31mRuntimeError\u001b[0m                              Traceback (most recent call last)",
      "Cell \u001b[1;32mIn[13], line 6\u001b[0m\n\u001b[0;32m      4\u001b[0m \u001b[38;5;28mprint\u001b[39m(\u001b[38;5;28miter\u001b[39m)\n\u001b[0;32m      5\u001b[0m \u001b[38;5;28;01mif\u001b[39;00m \u001b[38;5;28miter\u001b[39m \u001b[38;5;241m%\u001b[39m eval_iters \u001b[38;5;241m==\u001b[39m \u001b[38;5;241m0\u001b[39m:\n\u001b[1;32m----> 6\u001b[0m     losses \u001b[38;5;241m=\u001b[39m \u001b[43mestimate_loss\u001b[49m\u001b[43m(\u001b[49m\u001b[43m)\u001b[49m\n\u001b[0;32m      7\u001b[0m     \u001b[38;5;28mprint\u001b[39m(\u001b[38;5;124mf\u001b[39m\u001b[38;5;124m\"\u001b[39m\u001b[38;5;124mstep: \u001b[39m\u001b[38;5;132;01m{\u001b[39;00m\u001b[38;5;28miter\u001b[39m\u001b[38;5;132;01m}\u001b[39;00m\u001b[38;5;124m, train loss: \u001b[39m\u001b[38;5;132;01m{\u001b[39;00mlosses[\u001b[38;5;124m'\u001b[39m\u001b[38;5;124mtrain\u001b[39m\u001b[38;5;124m'\u001b[39m]\u001b[38;5;132;01m:\u001b[39;00m\u001b[38;5;124m.3f\u001b[39m\u001b[38;5;132;01m}\u001b[39;00m\u001b[38;5;124m, val loss: \u001b[39m\u001b[38;5;132;01m{\u001b[39;00mlosses[\u001b[38;5;124m'\u001b[39m\u001b[38;5;124mval\u001b[39m\u001b[38;5;124m'\u001b[39m]\u001b[38;5;132;01m:\u001b[39;00m\u001b[38;5;124m.3f\u001b[39m\u001b[38;5;132;01m}\u001b[39;00m\u001b[38;5;124m\"\u001b[39m)\n\u001b[0;32m      8\u001b[0m \u001b[38;5;66;03m# sample a batch of data\u001b[39;00m\n",
      "File \u001b[1;32m~\\cuda\\lib\\site-packages\\torch\\utils\\_contextlib.py:115\u001b[0m, in \u001b[0;36mcontext_decorator.<locals>.decorate_context\u001b[1;34m(*args, **kwargs)\u001b[0m\n\u001b[0;32m    112\u001b[0m \u001b[38;5;129m@functools\u001b[39m\u001b[38;5;241m.\u001b[39mwraps(func)\n\u001b[0;32m    113\u001b[0m \u001b[38;5;28;01mdef\u001b[39;00m \u001b[38;5;21mdecorate_context\u001b[39m(\u001b[38;5;241m*\u001b[39margs, \u001b[38;5;241m*\u001b[39m\u001b[38;5;241m*\u001b[39mkwargs):\n\u001b[0;32m    114\u001b[0m     \u001b[38;5;28;01mwith\u001b[39;00m ctx_factory():\n\u001b[1;32m--> 115\u001b[0m         \u001b[38;5;28;01mreturn\u001b[39;00m func(\u001b[38;5;241m*\u001b[39margs, \u001b[38;5;241m*\u001b[39m\u001b[38;5;241m*\u001b[39mkwargs)\n",
      "Cell \u001b[1;32mIn[9], line 10\u001b[0m, in \u001b[0;36mestimate_loss\u001b[1;34m()\u001b[0m\n\u001b[0;32m      8\u001b[0m         X, Y \u001b[38;5;241m=\u001b[39m get_batch(split)\n\u001b[0;32m      9\u001b[0m         logits, loss \u001b[38;5;241m=\u001b[39m model(X, Y)\n\u001b[1;32m---> 10\u001b[0m         losses[k] \u001b[38;5;241m=\u001b[39m \u001b[43mloss\u001b[49m\u001b[38;5;241;43m.\u001b[39;49m\u001b[43mitem\u001b[49m\u001b[43m(\u001b[49m\u001b[43m)\u001b[49m\n\u001b[0;32m     11\u001b[0m     out[split] \u001b[38;5;241m=\u001b[39m losses\u001b[38;5;241m.\u001b[39mmean()\n\u001b[0;32m     12\u001b[0m model\u001b[38;5;241m.\u001b[39mtrain()\n",
      "\u001b[1;31mRuntimeError\u001b[0m: CUDA error: device-side assert triggered\nCUDA kernel errors might be asynchronously reported at some other API call, so the stacktrace below might be incorrect.\nFor debugging consider passing CUDA_LAUNCH_BLOCKING=1.\nCompile with `TORCH_USE_CUDA_DSA` to enable device-side assertions.\n"
     ]
    }
   ],
   "source": [
    "optimizer = torch.optim.AdamW(model.parameters(), lr=learning_rate)\n",
    "\n",
    "for iter in range(max_iters):\n",
    "    print(iter)\n",
    "    if iter % eval_iters == 0:\n",
    "        losses = estimate_loss()\n",
    "        print(f\"step: {iter}, train loss: {losses['train']:.3f}, val loss: {losses['val']:.3f}\")\n",
    "    # sample a batch of data\n",
    "    xb, yb = get_batch('train')\n",
    "    \n",
    "    print(\"Target indices:\", yb)\n",
    "\n",
    "    # evaluate the loss\n",
    "    logits, loss = model.forward(xb, yb)\n",
    "    optimizer.zero_grad()\n",
    "    loss.backward()\n",
    "    optimizer.step()\n",
    "print(loss.item())\n",
    "    \n",
    "with open('model-01.pkl', 'wb') as f:\n",
    "    pickle.dump(model, f)\n",
    "print('model saved')"
   ]
  },
  {
   "cell_type": "code",
   "execution_count": null,
   "id": "eefe7f3c",
   "metadata": {},
   "outputs": [],
   "source": []
  },
  {
   "cell_type": "code",
   "execution_count": null,
   "id": "04924db4",
   "metadata": {},
   "outputs": [],
   "source": []
  }
 ],
 "metadata": {
  "kernelspec": {
   "display_name": "cuda gpt",
   "language": "python",
   "name": "cuda"
  },
  "language_info": {
   "codemirror_mode": {
    "name": "ipython",
    "version": 3
   },
   "file_extension": ".py",
   "mimetype": "text/x-python",
   "name": "python",
   "nbconvert_exporter": "python",
   "pygments_lexer": "ipython3",
   "version": "3.9.16"
  }
 },
 "nbformat": 4,
 "nbformat_minor": 5
}
